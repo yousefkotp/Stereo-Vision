{
 "cells": [
  {
   "cell_type": "markdown",
   "metadata": {},
   "source": [
    "## Block Matching"
   ]
  },
  {
   "cell_type": "code",
   "execution_count": 1,
   "metadata": {},
   "outputs": [],
   "source": [
    "# Importing libraries\n",
    "import numpy as np\n",
    "from PIL import Image\n",
    "import cv2\n",
    "\n",
    "# Defining Variables\n",
    "left_images = ['material/l1.png', 'material/l2.png', 'material/l3.png']\n",
    "right_images = ['material/r1.png', 'material/r2.png', 'material/r3.png']\n",
    "windows = [21]\n",
    "methods = ['SAD', 'SSD']\n",
    "\n",
    "# Defining Functions\n",
    "def calculate_disparity(left_image, right_image, window_size, method):\n",
    "\n",
    "    # get the shape of the images\n",
    "    left_shape = left_image.shape\n",
    "\n",
    "    # get the height and width of the images\n",
    "    height = left_shape[0]\n",
    "    width = left_shape[1]\n",
    "    disparity_map = np.zeros((height, width))\n",
    "\n",
    "    # calculate the disparity map\n",
    "    for i in range(window_size//2, height-window_size//2):\n",
    "        for j in range(window_size//2, width-window_size//2):\n",
    "            left_block = left_image[i-window_size//2:i+window_size//2+1, j-window_size//2:j+window_size//2+1]\n",
    "            cost, best_cost, best_match = 0, np.inf, 0\n",
    "            for k in range(window_size//2, width-window_size//2):\n",
    "                right_block = right_image[i-window_size//2:i+window_size//2+1, k-window_size//2:k+window_size//2+1]\n",
    "                if method == 'SAD':\n",
    "                    cost = np.sum(np.abs(left_block - right_block))\n",
    "                elif method == 'SSD':\n",
    "                    cost = np.sum(np.square(left_block - right_block))\n",
    "                if cost < best_cost:\n",
    "                    best_cost = cost\n",
    "                    best_match = k\n",
    "\n",
    "            # calculate the disparity\n",
    "            disparity_map[i, j] = np.abs(j - best_match)\n",
    "\n",
    "    # Normalizing the disparity map using min-max normalization\n",
    "    normalized_disparity_map = (disparity_map - np.min(disparity_map)) / (np.max(disparity_map) - np.min(disparity_map)) * 255\n",
    "    return disparity_map, normalized_disparity_map\n",
    "\n",
    "# Calculating the disparity map for each image with each window size and method\n",
    "for image_index in range(0,len(left_images)):\n",
    "    left_img = np.asarray(Image.open(left_images[image_index]).convert('RGB'))\n",
    "    right_img = np.asarray(Image.open(right_images[image_index]).convert('RGB'))\n",
    "    for window in windows:\n",
    "        for method in methods:\n",
    "            disparity_map, normalized_disparity_map  = calculate_disparity(left_img, right_img, window, method)\n",
    "            cv2.imwrite('results/{}/disparity_map_window_size_{}_{}.png'.format(image_index+1, window, method), disparity_map.astype(\"uint8\"), [cv2.IMWRITE_PNG_COMPRESSION, 0])\n",
    "            cv2.imwrite('results/{}/normalized_disparity_map_window_size_{}_{}.png'.format(image_index+1, window, method), normalized_disparity_map.astype(\"uint8\"), [cv2.IMWRITE_PNG_COMPRESSION, 0])"
   ]
  },
  {
   "cell_type": "markdown",
   "metadata": {},
   "source": [
    "## Dynamic Programming"
   ]
  }
 ],
 "metadata": {
  "kernelspec": {
   "display_name": "Python 3",
   "language": "python",
   "name": "python3"
  },
  "language_info": {
   "codemirror_mode": {
    "name": "ipython",
    "version": 3
   },
   "file_extension": ".py",
   "mimetype": "text/x-python",
   "name": "python",
   "nbconvert_exporter": "python",
   "pygments_lexer": "ipython3",
   "version": "3.10.9"
  }
 },
 "nbformat": 4,
 "nbformat_minor": 2
}
